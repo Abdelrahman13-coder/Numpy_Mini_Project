{
 "cells": [
  {
   "cell_type": "markdown",
   "metadata": {},
   "source": [
    "# Mean Normalization\n",
    "\n",
    "In machine learning we use large amounts of data to train our models. Some machine learning algorithms may require that the data is *normalized* in order to work correctly. The idea of normalization, also known as *feature scaling*, is to ensure that all the data is on a similar scale, *i.e.* that all the data takes on a similar range of values. For example, we might have a dataset that has values between 0 and 5,000. By normalizing the data we can make the range of values be between 0 and 1.\n",
    "\n",
    "In this lab, you will be performing a different kind of feature scaling known as *mean normalization*. Mean normalization will scale the data, but instead of making the values be between 0 and 1, it will distribute the values evenly in some small interval around zero. For example, if we have a dataset that has values between 0 and 5,000, after mean normalization the range of values will be distributed in some small range around 0, for example between -3 to 3. Because the range of values are distributed evenly around zero, this guarantees that the average (mean) of all elements will be zero. Therefore, when you perform *mean normalization* your data will not only be scaled but it will also have an average of zero. \n",
    "\n",
    "# To Do:\n",
    "\n",
    "You will start by importing NumPy and creating a rank 2 ndarray of random integers between 0 and 5,000 (inclusive) with 1000 rows and 20 columns. This array will simulate a dataset with a wide range of values. Fill in the code below"
   ]
  },
  {
   "cell_type": "code",
   "execution_count": 1,
   "metadata": {},
   "outputs": [
    {
     "name": "stdout",
     "output_type": "stream",
     "text": [
      "(1000, 20)\n"
     ]
    }
   ],
   "source": [
    "# import NumPy into Python\n",
    "import numpy as np\n",
    "\n",
    "# Create a 1000 x 20 ndarray with random integers in the half-open interval [0, 5001).\n",
    "X = np.random.randint(0,5001,size=(1000,20))\n",
    "\n",
    "# print the shape of X\n",
    "print(X.shape)"
   ]
  },
  {
   "cell_type": "markdown",
   "metadata": {},
   "source": [
    "Now that you created the array we will mean normalize it. We will perform mean normalization using the following equation:\n",
    "\n",
    "$\\mbox{Norm_Col}_i = \\frac{\\mbox{Col}_i - \\mu_i}{\\sigma_i}$\n",
    "\n",
    "where $\\mbox{Col}_i$ is the $i$th column of $X$, $\\mu_i$ is average of the values in the $i$th column of $X$, and $\\sigma_i$ is the standard deviation of the values in the $i$th column of $X$. In other words, mean normalization is performed by subtracting from each column of $X$ the average of its values, and then by dividing by the standard deviation of its values. In the space below, you will first calculate the average and standard deviation of each column of $X$. "
   ]
  },
  {
   "cell_type": "code",
   "execution_count": 2,
   "metadata": {},
   "outputs": [],
   "source": [
    "# Average of the values in each column of X\n",
    "ave_cols =np.mean(X,axis=0)\n",
    "\n",
    "# Standard Deviation of the values in each column of X\n",
    "std_cols =np.std(X,axis=0)"
   ]
  },
  {
   "cell_type": "markdown",
   "metadata": {},
   "source": [
    "If you have done the above calculations correctly, then `ave_cols` and `std_cols`, should both be vectors with shape `(20,)` since $X$ has 20 columns. You can verify this by filling the code below:"
   ]
  },
  {
   "cell_type": "code",
   "execution_count": 3,
   "metadata": {},
   "outputs": [
    {
     "name": "stdout",
     "output_type": "stream",
     "text": [
      "(20,)\n",
      "(20,)\n"
     ]
    }
   ],
   "source": [
    "# Print the shape of ave_cols\n",
    "print(ave_cols.shape)\n",
    "\n",
    "# Print the shape of std_cols\n",
    "print(std_cols.shape)"
   ]
  },
  {
   "cell_type": "markdown",
   "metadata": {},
   "source": [
    "You can now take advantage of Broadcasting to calculate the mean normalized version of $X$ in just one line of code using the equation above. Fill in the code below"
   ]
  },
  {
   "cell_type": "code",
   "execution_count": 4,
   "metadata": {},
   "outputs": [],
   "source": [
    "#Mean normalize X\n",
    "X_norm =(X-ave_cols)/std_cols"
   ]
  },
  {
   "cell_type": "markdown",
   "metadata": {},
   "source": [
    "If you have performed the mean normalization correctly, then the average of all the elements in $X_{\\tiny{\\mbox{norm}}}$ should be close to zero, and they should be evenly distributed in some small interval around zero. You can verify this by filing the code below:"
   ]
  },
  {
   "cell_type": "code",
   "execution_count": 5,
   "metadata": {},
   "outputs": [
    {
     "name": "stdout",
     "output_type": "stream",
     "text": [
      "The average of all the values fo X_norm \n",
      "\n",
      "-1.829647544582258e-17\n",
      "The average of the minimum value in each column of X_norm \n",
      "\n",
      "-1.7410836915501293\n",
      "-1.7410836915501293\n",
      "-1.7410836915501293\n",
      "The average of the maximum value in each column of X_norm\n",
      "1.731468551863912\n",
      "1.731468551863912\n",
      "1.731468551863912\n"
     ]
    }
   ],
   "source": [
    "# Print the average of all the values of X_norm\n",
    "print(\"The average of all the values fo X_norm \\n\")\n",
    "print(np.mean(X_norm))\n",
    "# Print the average of the minimum value in each column of X_norm\n",
    "print(\"The average of the minimum value in each column of X_norm \\n\")\n",
    "#Done Using three posible ways\n",
    "print(X_norm.min(axis=0).mean())\n",
    "print(np.mean(np.min(X_norm,axis=0)))\n",
    "print(np.mean(np.sort(X_norm,axis=0)[0]))\n",
    "# Print the average of the maximum value in each column of X_norm\n",
    "print(\"The average of the maximum value in each column of X_norm\")\n",
    "print(np.mean(np.max(X_norm,axis=0)))\n",
    "print(X_norm.max(axis=0).mean())\n",
    "print(np.mean(np.sort(X_norm,axis=0)[-1]))"
   ]
  },
  {
   "cell_type": "markdown",
   "metadata": {},
   "source": [
    "You should note that since $X$ was created using random integers, the above values will vary. \n",
    "\n",
    "# Data Separation\n",
    "\n",
    "After the data has been mean normalized, it is customary in machine learnig to split our dataset into three sets:\n",
    "\n",
    "1. A Training Set\n",
    "2. A Cross Validation Set\n",
    "3. A Test Set\n",
    "\n",
    "The dataset is usually divided such that the Training Set contains 60% of the data, the Cross Validation Set contains 20% of the data, and the Test Set contains 20% of the data. \n",
    "\n",
    "In this part of the lab you will separate `X_norm` into a Training Set, Cross Validation Set, and a Test Set. Each data set will contain rows of `X_norm` chosen at random, making sure that we don't pick the same row twice. This will guarantee that all the rows of `X_norm` are chosen and randomly distributed among the three new sets.\n",
    "\n",
    "You will start by creating a rank 1 ndarray that contains a random permutation of the row indices of `X_norm`. You can do this by using the `np.random.permutation()` function. The `np.random.permutation(N)` function creates a random permutation of integers from 0 to `N - 1`. Let's see an example:"
   ]
  },
  {
   "cell_type": "code",
   "execution_count": 6,
   "metadata": {},
   "outputs": [
    {
     "data": {
      "text/plain": [
       "array([2, 3, 4, 0, 1])"
      ]
     },
     "execution_count": 6,
     "metadata": {},
     "output_type": "execute_result"
    }
   ],
   "source": [
    "# We create a random permutation of integers 0 to 4\n",
    "np.random.permutation(5)"
   ]
  },
  {
   "cell_type": "markdown",
   "metadata": {},
   "source": [
    "# To Do\n",
    "\n",
    "In the space below create a rank 1 ndarray that contains a random permutation of the row indices of `X_norm`. You can do this in one line of code by extracting the number of rows of `X_norm` using the `shape` attribute and then passing it to the  `np.random.permutation()` function. Remember the `shape` attribute returns a tuple with two numbers in the form `(rows,columns)`."
   ]
  },
  {
   "cell_type": "code",
   "execution_count": 10,
   "metadata": {},
   "outputs": [],
   "source": [
    "# Create a rank 1 ndarray that contains a random permutation of the row indices of `X_norm`\n",
    "row_indices =np.random.permutation(X_norm.shape[0])"
   ]
  },
  {
   "cell_type": "markdown",
   "metadata": {},
   "source": [
    "Now you can create the three datasets using the `row_indices` ndarray to select the rows that will go into each dataset. Rememeber that the Training Set contains 60% of the data, the Cross Validation Set contains 20% of the data, and the Test Set contains 20% of the data. Each set requires just one line of code to create. Fill in the code below"
   ]
  },
  {
   "cell_type": "code",
   "execution_count": 11,
   "metadata": {},
   "outputs": [],
   "source": [
    "# Make any necessary calculations.\n",
    "# You can save your calculations into variables to use later.\n",
    "sixty=int(len(X_norm)*0.6)\n",
    "eighty=int(len(X_norm)*0.8)\n",
    "\n",
    "# Create a Training Set\n",
    "X_train =X_norm[row_indices[:sixty:],:]\n",
    "\n",
    "# Create a Cross Validation Set\n",
    "X_crossVal =X_norm[row_indices[sixty:eighty],:]\n",
    "\n",
    "# Create a Test Set\n",
    "X_test =X_norm[row_indices[eighty:],:]"
   ]
  },
  {
   "cell_type": "markdown",
   "metadata": {},
   "source": [
    "If you performed the above calculations correctly, then `X_tain` should have 600 rows and 20 columns, `X_crossVal` should have 200 rows and 20 columns, and `X_test` should have 200 rows and 20 columns. You can verify this by filling the code below:"
   ]
  },
  {
   "cell_type": "code",
   "execution_count": 12,
   "metadata": {},
   "outputs": [
    {
     "name": "stdout",
     "output_type": "stream",
     "text": [
      "X_train shape : [[ 1.4896603   1.44093557 -1.3665773  ...  0.85413009 -1.02426112\n",
      "  -0.62309519]\n",
      " [ 0.98379888  0.53647421  0.36160287 ...  1.30727194  0.58641341\n",
      "   0.14231097]\n",
      " [ 1.03459377  1.47993277 -0.59404414 ...  0.95522661 -0.28214391\n",
      "   0.95342321]\n",
      " ...\n",
      " [ 0.03122077  0.80466547 -1.5420902  ... -0.55763622  1.00309103\n",
      "   0.4820367 ]\n",
      " [-0.3055563   0.35517144  0.68775283 ...  0.06471683  1.31416242\n",
      "  -1.7104904 ]\n",
      " [ 1.0596433  -1.55021804 -0.54636544 ...  1.73890389  1.46933892\n",
      "   0.84768528]]\n",
      "X_crossVall shape : [[-0.64720412 -0.56776228  1.37183854 ...  0.98462347  0.30910726\n",
      "   0.74808697]\n",
      " [ 0.80636468  0.07124446 -1.32304458 ... -0.6659027  -0.57453666\n",
      "  -1.7036686 ]\n",
      " [ 0.71103729 -1.31418236  0.23929664 ... -0.57125915 -0.55154755\n",
      "  -0.9703249 ]\n",
      " ...\n",
      " [-0.14690925  1.57913617 -0.35150466 ...  1.21549637 -1.22828948\n",
      "   0.51751007]\n",
      " [-0.29303154 -1.61042424  0.52605984 ... -1.14198845  1.5943422\n",
      "  -0.93894462]\n",
      " [-1.16002374 -0.79832467  1.22534746 ...  1.57757965 -1.08963641\n",
      "   0.42541575]]\n",
      "X_test shape : [[ 1.33101326 -1.34223297  0.30839621 ... -0.4343128   0.79259699\n",
      "  -1.55836422]\n",
      " [ 1.49174777 -1.48248606  1.67518564 ... -1.13481848 -0.14205402\n",
      "   1.53805162]\n",
      " [-0.02444487  0.38664286  1.47272391 ...  0.1141896   0.70135896\n",
      "  -1.30186447]\n",
      " ...\n",
      " [ 0.64423853 -0.6984371   1.44162911 ...  1.59048559 -1.07167616\n",
      "   0.15731894]\n",
      " [ 1.1243546   1.14811449  1.14035499 ... -1.37071036  1.23226372\n",
      "  -0.11555314]\n",
      " [ 0.67763791 -1.07746251 -1.7182941  ... -0.4128029  -0.01776915\n",
      "  -0.62445955]]\n"
     ]
    }
   ],
   "source": [
    "# Print the shape of X_train\n",
    "print('X_train shape : {}'.format(X_train))\n",
    "\n",
    "# Print the shape of X_crossVal\n",
    "print('X_crossVall shape : {}'.format(X_crossVal))\n",
    "\n",
    "# Print the shape of X_test\n",
    "print('X_test shape : {}'.format(X_test))\n"
   ]
  },
  {
   "cell_type": "code",
   "execution_count": null,
   "metadata": {},
   "outputs": [],
   "source": []
  }
 ],
 "metadata": {
  "kernelspec": {
   "display_name": "Python 3",
   "language": "python",
   "name": "python3"
  },
  "language_info": {
   "codemirror_mode": {
    "name": "ipython",
    "version": 3
   },
   "file_extension": ".py",
   "mimetype": "text/x-python",
   "name": "python",
   "nbconvert_exporter": "python",
   "pygments_lexer": "ipython3",
   "version": "3.7.4"
  }
 },
 "nbformat": 4,
 "nbformat_minor": 2
}
